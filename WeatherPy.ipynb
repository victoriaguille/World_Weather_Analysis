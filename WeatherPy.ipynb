{
 "cells": [
  {
   "cell_type": "code",
   "execution_count": 1,
   "id": "3450d5c5",
   "metadata": {},
   "outputs": [],
   "source": [
    "#import the dependencies\n",
    "import pandas as pd\n",
    "import matplotlib.pyplot as plt\n",
    "import numpy as np\n",
    "from citipy import citipy\n",
    "import requests\n",
    "import time\n",
    "from datetime import datetime\n",
    "\n",
    "#import the api key\n",
    "from config import weather_api_key"
   ]
  },
  {
   "cell_type": "code",
   "execution_count": 2,
   "id": "79bce57f",
   "metadata": {},
   "outputs": [
    {
     "data": {
      "text/plain": [
       "<zip at 0x27f443bd708>"
      ]
     },
     "execution_count": 2,
     "metadata": {},
     "output_type": "execute_result"
    }
   ],
   "source": [
    "#create a set of random latitude and longitude combos\n",
    "lats = np.random.uniform(low=-90.000, high=90.000, size=1500)\n",
    "lngs = np.random.uniform(low=-180.000, high=180.000, size=1500)\n",
    "lat_lngs = zip(lats, lngs)\n",
    "lat_lngs"
   ]
  },
  {
   "cell_type": "code",
   "execution_count": 3,
   "id": "0ec0539d",
   "metadata": {},
   "outputs": [],
   "source": [
    "#add the latitudes and longitudes to a list\n",
    "coordinates = list(lat_lngs)"
   ]
  },
  {
   "cell_type": "code",
   "execution_count": 4,
   "id": "e06e5fff",
   "metadata": {},
   "outputs": [
    {
     "data": {
      "text/plain": [
       "592"
      ]
     },
     "execution_count": 4,
     "metadata": {},
     "output_type": "execute_result"
    }
   ],
   "source": [
    "#create a list for holding the cities\n",
    "cities = []\n",
    "\n",
    "#identify the nearest city for each latitude and longitude combo\n",
    "for coordinate in coordinates:\n",
    "    city = citipy.nearest_city(coordinate[0], coordinate[1]).city_name\n",
    "    \n",
    "    #if the city is unique, then we will add it to the cities list\n",
    "    if city not in cities:\n",
    "        cities.append(city)\n",
    "        \n",
    "#print the city count to confirm sufficient count\n",
    "len(cities)"
   ]
  },
  {
   "cell_type": "code",
   "execution_count": 5,
   "id": "3141ba34",
   "metadata": {},
   "outputs": [],
   "source": [
    "#starting url for weather map api call\n",
    "url = \"http://api.openweathermap.org/data/2.5/weather?units=Imperial&APPID=\" + weather_api_key"
   ]
  },
  {
   "cell_type": "code",
   "execution_count": 6,
   "id": "fe0ac037",
   "metadata": {},
   "outputs": [
    {
     "name": "stdout",
     "output_type": "stream",
     "text": [
      "Beginning Data Retrieval     \n",
      "-----------------------------\n"
     ]
    }
   ],
   "source": [
    "# Create an empty list to hold the weather data.\n",
    "city_data = []\n",
    "# Print the beginning of the logging.\n",
    "print(\"Beginning Data Retrieval     \")\n",
    "print(\"-----------------------------\")\n",
    "\n",
    "# Create counters.\n",
    "record_count = 1\n",
    "set_count = 1"
   ]
  },
  {
   "cell_type": "code",
   "execution_count": 7,
   "id": "776959e5",
   "metadata": {},
   "outputs": [
    {
     "name": "stdout",
     "output_type": "stream",
     "text": [
      "Processing Record 1 of Set 1 | longhua\n",
      "Processing Record 2 of Set 1 | jamestown\n",
      "Processing Record 3 of Set 1 | port blair\n",
      "Processing Record 4 of Set 1 | kijang\n",
      "Processing Record 5 of Set 1 | upernavik\n",
      "Processing Record 6 of Set 1 | puerto ayora\n",
      "Processing Record 7 of Set 1 | provideniya\n",
      "Processing Record 8 of Set 1 | butaritari\n",
      "Processing Record 9 of Set 1 | tura\n",
      "Processing Record 10 of Set 1 | shache\n",
      "Processing Record 11 of Set 1 | qaanaaq\n",
      "Processing Record 12 of Set 1 | baltasi\n",
      "Processing Record 13 of Set 1 | jaciara\n",
      "Processing Record 14 of Set 1 | zhigansk\n",
      "Processing Record 15 of Set 1 | japura\n",
      "Processing Record 16 of Set 1 | codrington\n",
      "Processing Record 17 of Set 1 | mehamn\n",
      "Processing Record 18 of Set 1 | kimbe\n",
      "Processing Record 19 of Set 1 | bichena\n",
      "Processing Record 20 of Set 1 | ushuaia\n",
      "Processing Record 21 of Set 1 | port alfred\n",
      "Processing Record 22 of Set 1 | hobart\n",
      "Processing Record 23 of Set 1 | yumen\n",
      "Processing Record 24 of Set 1 | illoqqortoormiut\n",
      "City not found. Skipping...\n",
      "Processing Record 25 of Set 1 | sarandi\n",
      "Processing Record 26 of Set 1 | kamenka\n",
      "Processing Record 27 of Set 1 | kapaa\n",
      "Processing Record 28 of Set 1 | viligili\n",
      "City not found. Skipping...\n",
      "Processing Record 29 of Set 1 | saskylakh\n",
      "Processing Record 30 of Set 1 | yellowknife\n",
      "Processing Record 31 of Set 1 | sao filipe\n",
      "Processing Record 32 of Set 1 | taolanaro\n",
      "City not found. Skipping...\n",
      "Processing Record 33 of Set 1 | ribeira grande\n",
      "Processing Record 34 of Set 1 | kaitangata\n",
      "Processing Record 35 of Set 1 | mataura\n",
      "Processing Record 36 of Set 1 | bredasdorp\n",
      "Processing Record 37 of Set 1 | hasaki\n",
      "Processing Record 38 of Set 1 | vaini\n",
      "Processing Record 39 of Set 1 | luwuk\n",
      "Processing Record 40 of Set 1 | albany\n",
      "Processing Record 41 of Set 1 | new norfolk\n",
      "Processing Record 42 of Set 1 | springbok\n",
      "Processing Record 43 of Set 1 | hilo\n",
      "Processing Record 44 of Set 1 | rikitea\n",
      "Processing Record 45 of Set 1 | portland\n",
      "Processing Record 46 of Set 1 | paamiut\n",
      "Processing Record 47 of Set 1 | nikolskoye\n",
      "Processing Record 48 of Set 1 | angoche\n",
      "Processing Record 49 of Set 1 | grants\n",
      "Processing Record 50 of Set 1 | haines junction\n",
      "Processing Record 1 of Set 2 | charlestown\n",
      "Processing Record 2 of Set 2 | norman wells\n",
      "Processing Record 3 of Set 2 | cidreira\n",
      "Processing Record 4 of Set 2 | khandyga\n",
      "Processing Record 5 of Set 2 | libertador general san martin\n",
      "Processing Record 6 of Set 2 | marcona\n",
      "City not found. Skipping...\n",
      "Processing Record 7 of Set 2 | holalkere\n",
      "Processing Record 8 of Set 2 | bethel\n",
      "Processing Record 9 of Set 2 | barrow\n",
      "Processing Record 10 of Set 2 | manakara\n",
      "Processing Record 11 of Set 2 | marondera\n",
      "Processing Record 12 of Set 2 | sawtell\n",
      "Processing Record 13 of Set 2 | velez-malaga\n",
      "Processing Record 14 of Set 2 | koulikoro\n",
      "Processing Record 15 of Set 2 | arraial do cabo\n",
      "Processing Record 16 of Set 2 | tuktoyaktuk\n",
      "Processing Record 17 of Set 2 | kavieng\n",
      "Processing Record 18 of Set 2 | biltine\n",
      "Processing Record 19 of Set 2 | margate\n",
      "Processing Record 20 of Set 2 | laramie\n",
      "Processing Record 21 of Set 2 | kalmar\n",
      "Processing Record 22 of Set 2 | husavik\n",
      "Processing Record 23 of Set 2 | takoradi\n",
      "Processing Record 24 of Set 2 | avera\n",
      "Processing Record 25 of Set 2 | jamame\n",
      "Processing Record 26 of Set 2 | carnarvon\n",
      "Processing Record 27 of Set 2 | bengkulu\n",
      "Processing Record 28 of Set 2 | trinidad\n",
      "Processing Record 29 of Set 2 | keti bandar\n",
      "Processing Record 30 of Set 2 | chuy\n",
      "Processing Record 31 of Set 2 | goya\n",
      "Processing Record 32 of Set 2 | tessalit\n",
      "Processing Record 33 of Set 2 | busselton\n",
      "Processing Record 34 of Set 2 | punta arenas\n",
      "Processing Record 35 of Set 2 | rocha\n",
      "Processing Record 36 of Set 2 | severo-kurilsk\n",
      "Processing Record 37 of Set 2 | pevek\n",
      "Processing Record 38 of Set 2 | caravelas\n",
      "Processing Record 39 of Set 2 | farah\n",
      "Processing Record 40 of Set 2 | muros\n",
      "Processing Record 41 of Set 2 | padrauna\n",
      "Processing Record 42 of Set 2 | belokurikha\n",
      "Processing Record 43 of Set 2 | shimoda\n",
      "Processing Record 44 of Set 2 | east london\n",
      "Processing Record 45 of Set 2 | alice springs\n",
      "Processing Record 46 of Set 2 | bluff\n",
      "Processing Record 47 of Set 2 | moose factory\n",
      "Processing Record 48 of Set 2 | inuvik\n",
      "Processing Record 49 of Set 2 | kodinsk\n",
      "Processing Record 50 of Set 2 | banda aceh\n",
      "Processing Record 1 of Set 3 | ancud\n",
      "Processing Record 2 of Set 3 | labuhan\n",
      "Processing Record 3 of Set 3 | hofn\n",
      "Processing Record 4 of Set 3 | cooma\n",
      "Processing Record 5 of Set 3 | lagoa\n",
      "Processing Record 6 of Set 3 | toba\n",
      "Processing Record 7 of Set 3 | kirakira\n",
      "Processing Record 8 of Set 3 | ponta do sol\n",
      "Processing Record 9 of Set 3 | tokur\n",
      "Processing Record 10 of Set 3 | bartica\n",
      "Processing Record 11 of Set 3 | saint-philippe\n",
      "Processing Record 12 of Set 3 | hermanus\n",
      "Processing Record 13 of Set 3 | bambous virieux\n",
      "Processing Record 14 of Set 3 | pyapon\n",
      "Processing Record 15 of Set 3 | mahebourg\n",
      "Processing Record 16 of Set 3 | sitka\n",
      "Processing Record 17 of Set 3 | evensk\n",
      "Processing Record 18 of Set 3 | sola\n",
      "Processing Record 19 of Set 3 | katherine\n",
      "Processing Record 20 of Set 3 | saldanha\n",
      "Processing Record 21 of Set 3 | ixtapa\n",
      "Processing Record 22 of Set 3 | adrar\n",
      "Processing Record 23 of Set 3 | mys shmidta\n",
      "City not found. Skipping...\n",
      "Processing Record 24 of Set 3 | poya\n",
      "Processing Record 25 of Set 3 | bubaque\n",
      "Processing Record 26 of Set 3 | mentok\n",
      "City not found. Skipping...\n",
      "Processing Record 27 of Set 3 | mar del plata\n",
      "Processing Record 28 of Set 3 | tuatapere\n",
      "Processing Record 29 of Set 3 | tsihombe\n",
      "City not found. Skipping...\n",
      "Processing Record 30 of Set 3 | tacna\n",
      "Processing Record 31 of Set 3 | santa cruz\n",
      "Processing Record 32 of Set 3 | sakaiminato\n",
      "Processing Record 33 of Set 3 | grand river south east\n",
      "City not found. Skipping...\n",
      "Processing Record 34 of Set 3 | atuona\n",
      "Processing Record 35 of Set 3 | saleaula\n",
      "City not found. Skipping...\n",
      "Processing Record 36 of Set 3 | lorengau\n",
      "Processing Record 37 of Set 3 | skjervoy\n",
      "Processing Record 38 of Set 3 | lavrentiya\n",
      "Processing Record 39 of Set 3 | vanimo\n",
      "Processing Record 40 of Set 3 | chapais\n",
      "Processing Record 41 of Set 3 | thompson\n",
      "Processing Record 42 of Set 3 | tramore\n",
      "Processing Record 43 of Set 3 | mogzon\n",
      "Processing Record 44 of Set 3 | souillac\n",
      "Processing Record 45 of Set 3 | sorata\n",
      "Processing Record 46 of Set 3 | avarua\n",
      "Processing Record 47 of Set 3 | hualmay\n",
      "Processing Record 48 of Set 3 | makhinjauri\n",
      "Processing Record 49 of Set 3 | pisco\n",
      "Processing Record 50 of Set 3 | ondorhaan\n",
      "City not found. Skipping...\n",
      "Processing Record 1 of Set 4 | bathsheba\n",
      "Processing Record 2 of Set 4 | san quintin\n",
      "Processing Record 3 of Set 4 | lata\n",
      "Processing Record 4 of Set 4 | kodiak\n",
      "Processing Record 5 of Set 4 | castro\n",
      "Processing Record 6 of Set 4 | jinhua\n",
      "Processing Record 7 of Set 4 | yulara\n",
      "Processing Record 8 of Set 4 | sur\n",
      "Processing Record 9 of Set 4 | yamada\n",
      "Processing Record 10 of Set 4 | saint george\n",
      "Processing Record 11 of Set 4 | nanortalik\n",
      "Processing Record 12 of Set 4 | amderma\n",
      "City not found. Skipping...\n",
      "Processing Record 13 of Set 4 | plettenberg bay\n",
      "Processing Record 14 of Set 4 | cherskiy\n",
      "Processing Record 15 of Set 4 | leningradskiy\n",
      "Processing Record 16 of Set 4 | pangnirtung\n",
      "Processing Record 17 of Set 4 | nguruka\n",
      "Processing Record 18 of Set 4 | kralendijk\n",
      "Processing Record 19 of Set 4 | narsaq\n",
      "Processing Record 20 of Set 4 | hithadhoo\n",
      "Processing Record 21 of Set 4 | utiroa\n",
      "City not found. Skipping...\n",
      "Processing Record 22 of Set 4 | port hardy\n",
      "Processing Record 23 of Set 4 | mocuba\n",
      "Processing Record 24 of Set 4 | baykit\n",
      "Processing Record 25 of Set 4 | krasnoselkup\n",
      "Processing Record 26 of Set 4 | port elizabeth\n",
      "Processing Record 27 of Set 4 | salinopolis\n",
      "Processing Record 28 of Set 4 | samusu\n",
      "City not found. Skipping...\n",
      "Processing Record 29 of Set 4 | the valley\n",
      "Processing Record 30 of Set 4 | kihei\n",
      "Processing Record 31 of Set 4 | lebu\n",
      "Processing Record 32 of Set 4 | kutum\n",
      "Processing Record 33 of Set 4 | sistranda\n",
      "Processing Record 34 of Set 4 | magan\n",
      "Processing Record 35 of Set 4 | monaco-ville\n",
      "Processing Record 36 of Set 4 | victoria\n",
      "Processing Record 37 of Set 4 | attawapiskat\n",
      "City not found. Skipping...\n",
      "Processing Record 38 of Set 4 | harper\n",
      "Processing Record 39 of Set 4 | gao\n",
      "Processing Record 40 of Set 4 | faanui\n",
      "Processing Record 41 of Set 4 | vestmannaeyjar\n",
      "Processing Record 42 of Set 4 | balabac\n"
     ]
    },
    {
     "name": "stdout",
     "output_type": "stream",
     "text": [
      "Processing Record 43 of Set 4 | nizhneyansk\n",
      "City not found. Skipping...\n",
      "Processing Record 44 of Set 4 | agadez\n",
      "Processing Record 45 of Set 4 | fare\n",
      "Processing Record 46 of Set 4 | dakar\n",
      "Processing Record 47 of Set 4 | wajima\n",
      "Processing Record 48 of Set 4 | acapulco\n",
      "Processing Record 49 of Set 4 | dikson\n",
      "Processing Record 50 of Set 4 | tateyama\n",
      "Processing Record 1 of Set 5 | seoul\n",
      "Processing Record 2 of Set 5 | hervey bay\n",
      "Processing Record 3 of Set 5 | yar-sale\n",
      "Processing Record 4 of Set 5 | taoudenni\n",
      "Processing Record 5 of Set 5 | lanivtsi\n",
      "Processing Record 6 of Set 5 | batemans bay\n",
      "Processing Record 7 of Set 5 | lompoc\n",
      "Processing Record 8 of Set 5 | belushya guba\n",
      "City not found. Skipping...\n",
      "Processing Record 9 of Set 5 | xunchang\n",
      "Processing Record 10 of Set 5 | barentsburg\n",
      "City not found. Skipping...\n",
      "Processing Record 11 of Set 5 | ploemeur\n",
      "Processing Record 12 of Set 5 | mansoa\n",
      "Processing Record 13 of Set 5 | fortuna\n",
      "Processing Record 14 of Set 5 | namatanai\n",
      "Processing Record 15 of Set 5 | saint-augustin\n",
      "Processing Record 16 of Set 5 | luderitz\n",
      "Processing Record 17 of Set 5 | longyearbyen\n",
      "Processing Record 18 of Set 5 | guarapuava\n",
      "Processing Record 19 of Set 5 | port hedland\n",
      "Processing Record 20 of Set 5 | gwadar\n",
      "Processing Record 21 of Set 5 | faya\n",
      "Processing Record 22 of Set 5 | qasigiannguit\n",
      "Processing Record 23 of Set 5 | gadarwara\n",
      "Processing Record 24 of Set 5 | nouadhibou\n",
      "Processing Record 25 of Set 5 | nhulunbuy\n",
      "Processing Record 26 of Set 5 | lauterbach\n",
      "Processing Record 27 of Set 5 | puerto maldonado\n",
      "Processing Record 28 of Set 5 | nantucket\n",
      "Processing Record 29 of Set 5 | anadyr\n",
      "Processing Record 30 of Set 5 | tairua\n",
      "Processing Record 31 of Set 5 | daugai\n",
      "Processing Record 32 of Set 5 | tiksi\n",
      "Processing Record 33 of Set 5 | comodoro rivadavia\n",
      "Processing Record 34 of Set 5 | mandalgovi\n",
      "Processing Record 35 of Set 5 | pacific grove\n",
      "Processing Record 36 of Set 5 | maragogi\n",
      "Processing Record 37 of Set 5 | nizwa\n",
      "Processing Record 38 of Set 5 | chicomuselo\n",
      "Processing Record 39 of Set 5 | romny\n",
      "Processing Record 40 of Set 5 | kudahuvadhoo\n",
      "Processing Record 41 of Set 5 | boguchany\n",
      "Processing Record 42 of Set 5 | sinnamary\n",
      "Processing Record 43 of Set 5 | linjiang\n",
      "Processing Record 44 of Set 5 | cape town\n",
      "Processing Record 45 of Set 5 | sentyabrskiy\n",
      "City not found. Skipping...\n",
      "Processing Record 46 of Set 5 | anderson\n",
      "Processing Record 47 of Set 5 | la ronge\n",
      "Processing Record 48 of Set 5 | vao\n",
      "Processing Record 49 of Set 5 | ankara\n",
      "Processing Record 50 of Set 5 | kharp\n",
      "Processing Record 1 of Set 6 | nesbyen\n",
      "Processing Record 2 of Set 6 | warqla\n",
      "City not found. Skipping...\n",
      "Processing Record 3 of Set 6 | samarai\n",
      "Processing Record 4 of Set 6 | udachnyy\n",
      "Processing Record 5 of Set 6 | linxia\n",
      "Processing Record 6 of Set 6 | saint-georges\n",
      "Processing Record 7 of Set 6 | palabuhanratu\n",
      "City not found. Skipping...\n",
      "Processing Record 8 of Set 6 | izumo\n",
      "Processing Record 9 of Set 6 | negara\n",
      "Processing Record 10 of Set 6 | kieta\n",
      "Processing Record 11 of Set 6 | georgetown\n",
      "Processing Record 12 of Set 6 | nivala\n",
      "Processing Record 13 of Set 6 | makakilo city\n",
      "Processing Record 14 of Set 6 | tigil\n",
      "Processing Record 15 of Set 6 | port-cartier\n",
      "Processing Record 16 of Set 6 | gornopravdinsk\n",
      "Processing Record 17 of Set 6 | mount isa\n",
      "Processing Record 18 of Set 6 | alihe\n",
      "Processing Record 19 of Set 6 | palmer\n",
      "Processing Record 20 of Set 6 | ambon\n",
      "Processing Record 21 of Set 6 | klaksvik\n",
      "Processing Record 22 of Set 6 | fairbanks\n",
      "Processing Record 23 of Set 6 | iki-burul\n",
      "Processing Record 24 of Set 6 | buqayq\n",
      "City not found. Skipping...\n",
      "Processing Record 25 of Set 6 | gashua\n",
      "Processing Record 26 of Set 6 | pangody\n",
      "Processing Record 27 of Set 6 | gizo\n",
      "Processing Record 28 of Set 6 | porosozero\n",
      "Processing Record 29 of Set 6 | lahij\n",
      "Processing Record 30 of Set 6 | noumea\n",
      "Processing Record 31 of Set 6 | payakumbuh\n",
      "Processing Record 32 of Set 6 | robertsport\n",
      "Processing Record 33 of Set 6 | kjopsvik\n",
      "Processing Record 34 of Set 6 | meulaboh\n",
      "Processing Record 35 of Set 6 | shiozawa\n",
      "Processing Record 36 of Set 6 | ust-nera\n",
      "Processing Record 37 of Set 6 | diamantina\n",
      "Processing Record 38 of Set 6 | gull lake\n",
      "Processing Record 39 of Set 6 | san cristobal\n",
      "Processing Record 40 of Set 6 | itarema\n",
      "Processing Record 41 of Set 6 | esperance\n",
      "Processing Record 42 of Set 6 | pervomayskiy\n",
      "Processing Record 43 of Set 6 | sao joao da barra\n",
      "Processing Record 44 of Set 6 | holme\n",
      "Processing Record 45 of Set 6 | mashhad\n",
      "Processing Record 46 of Set 6 | khatanga\n",
      "Processing Record 47 of Set 6 | rio hato\n",
      "Processing Record 48 of Set 6 | pontal do parana\n",
      "Processing Record 49 of Set 6 | faurei\n",
      "Processing Record 50 of Set 6 | egvekinot\n",
      "Processing Record 1 of Set 7 | sovetskiy\n",
      "Processing Record 2 of Set 7 | nuevo progreso\n",
      "Processing Record 3 of Set 7 | bellary\n",
      "Processing Record 4 of Set 7 | vandalia\n",
      "Processing Record 5 of Set 7 | lasa\n",
      "Processing Record 6 of Set 7 | vaitupu\n",
      "City not found. Skipping...\n",
      "Processing Record 7 of Set 7 | nome\n",
      "Processing Record 8 of Set 7 | angelholm\n",
      "City not found. Skipping...\n",
      "Processing Record 9 of Set 7 | marsh harbour\n",
      "Processing Record 10 of Set 7 | wewak\n",
      "Processing Record 11 of Set 7 | parasia\n",
      "Processing Record 12 of Set 7 | lishui\n",
      "Processing Record 13 of Set 7 | yeppoon\n",
      "Processing Record 14 of Set 7 | anrochte\n",
      "Processing Record 15 of Set 7 | luklukan\n",
      "Processing Record 16 of Set 7 | geraldton\n",
      "Processing Record 17 of Set 7 | hambantota\n",
      "Processing Record 18 of Set 7 | sibolga\n",
      "Processing Record 19 of Set 7 | kavaratti\n",
      "Processing Record 20 of Set 7 | llaillay\n",
      "Processing Record 21 of Set 7 | embonas\n",
      "Processing Record 22 of Set 7 | coquimbo\n",
      "Processing Record 23 of Set 7 | emerald\n",
      "Processing Record 24 of Set 7 | kichera\n",
      "Processing Record 25 of Set 7 | gbongan\n",
      "Processing Record 26 of Set 7 | robertson\n",
      "Processing Record 27 of Set 7 | vadso\n",
      "Processing Record 28 of Set 7 | bandarbeyla\n",
      "Processing Record 29 of Set 7 | totskoye\n",
      "Processing Record 30 of Set 7 | mwinilunga\n",
      "Processing Record 31 of Set 7 | ulaangom\n",
      "Processing Record 32 of Set 7 | ilulissat\n",
      "Processing Record 33 of Set 7 | raudeberg\n",
      "Processing Record 34 of Set 7 | oriximina\n",
      "Processing Record 35 of Set 7 | nabire\n",
      "Processing Record 36 of Set 7 | macas\n",
      "Processing Record 37 of Set 7 | yuksekova\n",
      "Processing Record 38 of Set 7 | mount gambier\n",
      "Processing Record 39 of Set 7 | tumannyy\n",
      "City not found. Skipping...\n",
      "Processing Record 40 of Set 7 | cabo san lucas\n",
      "Processing Record 41 of Set 7 | shakawe\n",
      "Processing Record 42 of Set 7 | la primavera\n",
      "Processing Record 43 of Set 7 | hamilton\n",
      "Processing Record 44 of Set 7 | tahoua\n",
      "Processing Record 45 of Set 7 | singaraja\n",
      "Processing Record 46 of Set 7 | ketchikan\n",
      "Processing Record 47 of Set 7 | albemarle\n",
      "Processing Record 48 of Set 7 | sioux lookout\n",
      "Processing Record 49 of Set 7 | quebo\n",
      "Processing Record 50 of Set 7 | clyde river\n",
      "Processing Record 1 of Set 8 | bonavista\n",
      "Processing Record 2 of Set 8 | kuytun\n",
      "Processing Record 3 of Set 8 | chokurdakh\n",
      "Processing Record 4 of Set 8 | alofi\n",
      "Processing Record 5 of Set 8 | rolim de moura\n",
      "City not found. Skipping...\n",
      "Processing Record 6 of Set 8 | tasiilaq\n",
      "Processing Record 7 of Set 8 | bourne\n",
      "Processing Record 8 of Set 8 | svetlaya\n",
      "Processing Record 9 of Set 8 | itoman\n",
      "Processing Record 10 of Set 8 | airai\n",
      "Processing Record 11 of Set 8 | wenling\n",
      "Processing Record 12 of Set 8 | camacha\n",
      "Processing Record 13 of Set 8 | goderich\n",
      "Processing Record 14 of Set 8 | solnechnyy\n",
      "Processing Record 15 of Set 8 | salalah\n",
      "Processing Record 16 of Set 8 | praia da vitoria\n",
      "Processing Record 17 of Set 8 | rafai\n",
      "Processing Record 18 of Set 8 | casas grandes\n",
      "Processing Record 19 of Set 8 | mujiayingzi\n",
      "Processing Record 20 of Set 8 | port lincoln\n",
      "Processing Record 21 of Set 8 | kindu\n",
      "Processing Record 22 of Set 8 | ilo\n",
      "Processing Record 23 of Set 8 | constitucion\n",
      "Processing Record 24 of Set 8 | tepeojuma\n",
      "Processing Record 25 of Set 8 | biankouma\n",
      "Processing Record 26 of Set 8 | magdagachi\n",
      "Processing Record 27 of Set 8 | kununurra\n",
      "Processing Record 28 of Set 8 | verkhnevilyuysk\n",
      "Processing Record 29 of Set 8 | lolua\n",
      "City not found. Skipping...\n",
      "Processing Record 30 of Set 8 | tank\n",
      "Processing Record 31 of Set 8 | turkan\n",
      "Processing Record 32 of Set 8 | guerrero negro\n",
      "Processing Record 33 of Set 8 | ozernovskiy\n"
     ]
    },
    {
     "name": "stdout",
     "output_type": "stream",
     "text": [
      "Processing Record 34 of Set 8 | cayenne\n",
      "Processing Record 35 of Set 8 | guiyang\n",
      "Processing Record 36 of Set 8 | haizhou\n",
      "Processing Record 37 of Set 8 | sassandra\n",
      "Processing Record 38 of Set 8 | tecate\n",
      "Processing Record 39 of Set 8 | marsa matruh\n",
      "Processing Record 40 of Set 8 | ahuimanu\n",
      "Processing Record 41 of Set 8 | macau\n",
      "Processing Record 42 of Set 8 | igarka\n",
      "Processing Record 43 of Set 8 | piacabucu\n",
      "Processing Record 44 of Set 8 | krutinka\n",
      "Processing Record 45 of Set 8 | hirara\n",
      "Processing Record 46 of Set 8 | rincon\n",
      "Processing Record 47 of Set 8 | quakenbruck\n",
      "Processing Record 48 of Set 8 | marawi\n",
      "Processing Record 49 of Set 8 | mazyr\n",
      "Processing Record 50 of Set 8 | rawson\n",
      "Processing Record 1 of Set 9 | naze\n",
      "Processing Record 2 of Set 9 | velikiy ustyug\n",
      "Processing Record 3 of Set 9 | sao jose da coroa grande\n",
      "Processing Record 4 of Set 9 | moshenskoye\n",
      "Processing Record 5 of Set 9 | mnogovershinnyy\n",
      "Processing Record 6 of Set 9 | mandla\n",
      "Processing Record 7 of Set 9 | umzimvubu\n",
      "City not found. Skipping...\n",
      "Processing Record 8 of Set 9 | saint anthony\n",
      "Processing Record 9 of Set 9 | nadym\n",
      "Processing Record 10 of Set 9 | barcelos\n",
      "Processing Record 11 of Set 9 | danville\n",
      "Processing Record 12 of Set 9 | nazca\n",
      "Processing Record 13 of Set 9 | hobyo\n",
      "Processing Record 14 of Set 9 | darhan\n",
      "Processing Record 15 of Set 9 | orikum\n",
      "Processing Record 16 of Set 9 | novobirilyussy\n",
      "Processing Record 17 of Set 9 | samalaeulu\n",
      "City not found. Skipping...\n",
      "Processing Record 18 of Set 9 | iskateley\n",
      "Processing Record 19 of Set 9 | glasgow\n",
      "Processing Record 20 of Set 9 | tiznit\n",
      "Processing Record 21 of Set 9 | lufilufi\n",
      "Processing Record 22 of Set 9 | haibowan\n",
      "City not found. Skipping...\n",
      "Processing Record 23 of Set 9 | trincomalee\n",
      "Processing Record 24 of Set 9 | bantry\n",
      "Processing Record 25 of Set 9 | aqtobe\n",
      "Processing Record 26 of Set 9 | mizdah\n",
      "Processing Record 27 of Set 9 | seymchan\n",
      "Processing Record 28 of Set 9 | babol\n",
      "Processing Record 29 of Set 9 | sedelnikovo\n",
      "City not found. Skipping...\n",
      "Processing Record 30 of Set 9 | mehriz\n",
      "Processing Record 31 of Set 9 | aljezur\n",
      "Processing Record 32 of Set 9 | lingyuan\n",
      "Processing Record 33 of Set 9 | trat\n",
      "Processing Record 34 of Set 9 | nizhniy kuranakh\n",
      "Processing Record 35 of Set 9 | liling\n",
      "Processing Record 36 of Set 9 | tubruq\n",
      "City not found. Skipping...\n",
      "Processing Record 37 of Set 9 | touros\n",
      "Processing Record 38 of Set 9 | acarau\n",
      "Processing Record 39 of Set 9 | marrakesh\n",
      "Processing Record 40 of Set 9 | vostok\n",
      "Processing Record 41 of Set 9 | waipawa\n",
      "Processing Record 42 of Set 9 | eyemouth\n",
      "Processing Record 43 of Set 9 | san vicente\n",
      "Processing Record 44 of Set 9 | hutchinson\n",
      "Processing Record 45 of Set 9 | leh\n",
      "Processing Record 46 of Set 9 | ozinki\n",
      "Processing Record 47 of Set 9 | praya\n",
      "Processing Record 48 of Set 9 | manggar\n",
      "Processing Record 49 of Set 9 | porto walter\n",
      "Processing Record 50 of Set 9 | baijiantan\n",
      "Processing Record 1 of Set 10 | kloulklubed\n",
      "Processing Record 2 of Set 10 | jardim\n",
      "Processing Record 3 of Set 10 | lucapa\n",
      "Processing Record 4 of Set 10 | ulverstone\n",
      "Processing Record 5 of Set 10 | conakry\n",
      "Processing Record 6 of Set 10 | morehead\n",
      "Processing Record 7 of Set 10 | altamira\n",
      "Processing Record 8 of Set 10 | msanga\n",
      "Processing Record 9 of Set 10 | vanino\n",
      "Processing Record 10 of Set 10 | spring valley\n",
      "Processing Record 11 of Set 10 | gat\n",
      "Processing Record 12 of Set 10 | boyolangu\n",
      "Processing Record 13 of Set 10 | buraydah\n",
      "Processing Record 14 of Set 10 | lubu\n",
      "Processing Record 15 of Set 10 | de-kastri\n",
      "Processing Record 16 of Set 10 | rio gallegos\n",
      "Processing Record 17 of Set 10 | vestmanna\n",
      "Processing Record 18 of Set 10 | balkhash\n",
      "Processing Record 19 of Set 10 | wallacetown\n",
      "Processing Record 20 of Set 10 | cotonou\n",
      "Processing Record 21 of Set 10 | iqaluit\n",
      "Processing Record 22 of Set 10 | bilibino\n",
      "Processing Record 23 of Set 10 | raga\n",
      "Processing Record 24 of Set 10 | labe\n",
      "Processing Record 25 of Set 10 | tecpan\n",
      "Processing Record 26 of Set 10 | santa maria visitacion\n",
      "Processing Record 27 of Set 10 | isangel\n",
      "Processing Record 28 of Set 10 | show low\n",
      "Processing Record 29 of Set 10 | srednekolymsk\n",
      "Processing Record 30 of Set 10 | progreso\n",
      "Processing Record 31 of Set 10 | najran\n",
      "Processing Record 32 of Set 10 | vega de alatorre\n",
      "Processing Record 33 of Set 10 | tungkang\n",
      "City not found. Skipping...\n",
      "Processing Record 34 of Set 10 | ostrovnoy\n",
      "Processing Record 35 of Set 10 | meadow lake\n",
      "Processing Record 36 of Set 10 | xuddur\n",
      "Processing Record 37 of Set 10 | mpraeso\n",
      "Processing Record 38 of Set 10 | santa lucia\n",
      "Processing Record 39 of Set 10 | manokwari\n",
      "Processing Record 40 of Set 10 | matara\n",
      "Processing Record 41 of Set 10 | los llanos de aridane\n",
      "Processing Record 42 of Set 10 | dejen\n",
      "Processing Record 43 of Set 10 | jarjis\n",
      "City not found. Skipping...\n",
      "Processing Record 44 of Set 10 | ahipara\n",
      "Processing Record 45 of Set 10 | loralai\n",
      "Processing Record 46 of Set 10 | edd\n",
      "Processing Record 47 of Set 10 | bad sachsa\n",
      "Processing Record 48 of Set 10 | banavar\n",
      "Processing Record 49 of Set 10 | abu samrah\n",
      "Processing Record 50 of Set 10 | tabukiniberu\n",
      "City not found. Skipping...\n",
      "Processing Record 1 of Set 11 | te anau\n",
      "Processing Record 2 of Set 11 | kibre mengist\n",
      "Processing Record 3 of Set 11 | iroquois falls\n",
      "Processing Record 4 of Set 11 | pestravka\n",
      "Processing Record 5 of Set 11 | lakes entrance\n",
      "Processing Record 6 of Set 11 | bilma\n",
      "Processing Record 7 of Set 11 | aylmer\n",
      "Processing Record 8 of Set 11 | kruisfontein\n",
      "Processing Record 9 of Set 11 | safaga\n",
      "Processing Record 10 of Set 11 | arandis\n",
      "Processing Record 11 of Set 11 | peachtree city\n",
      "Processing Record 12 of Set 11 | abonnema\n",
      "Processing Record 13 of Set 11 | glendive\n",
      "Processing Record 14 of Set 11 | henties bay\n",
      "Processing Record 15 of Set 11 | shirvan\n",
      "Processing Record 16 of Set 11 | hit\n",
      "Processing Record 17 of Set 11 | puerto escondido\n",
      "Processing Record 18 of Set 11 | vagamo\n",
      "Processing Record 19 of Set 11 | ebolowa\n",
      "Processing Record 20 of Set 11 | flin flon\n",
      "Processing Record 21 of Set 11 | jaboatao\n",
      "Processing Record 22 of Set 11 | dzhusaly\n",
      "City not found. Skipping...\n",
      "Processing Record 23 of Set 11 | soavinandriana\n",
      "Processing Record 24 of Set 11 | katsuura\n",
      "Processing Record 25 of Set 11 | avanigadda\n",
      "Processing Record 26 of Set 11 | pudozh\n",
      "Processing Record 27 of Set 11 | northam\n",
      "Processing Record 28 of Set 11 | aykhal\n",
      "Processing Record 29 of Set 11 | sao gabriel da cachoeira\n",
      "Processing Record 30 of Set 11 | dhamtari\n",
      "Processing Record 31 of Set 11 | dabat\n",
      "Processing Record 32 of Set 11 | filadelfia\n",
      "Processing Record 33 of Set 11 | tashtyp\n",
      "Processing Record 34 of Set 11 | sabang\n",
      "Processing Record 35 of Set 11 | torbay\n",
      "Processing Record 36 of Set 11 | xining\n",
      "Processing Record 37 of Set 11 | ternate\n",
      "Processing Record 38 of Set 11 | honningsvag\n",
      "Processing Record 39 of Set 11 | bam\n",
      "Processing Record 40 of Set 11 | bargal\n",
      "City not found. Skipping...\n",
      "Processing Record 41 of Set 11 | bontang\n",
      "Processing Record 42 of Set 11 | santa vitoria do palmar\n",
      "Processing Record 43 of Set 11 | point pedro\n",
      "Processing Record 44 of Set 11 | ambilobe\n",
      "Processing Record 45 of Set 11 | nautla\n",
      "Processing Record 46 of Set 11 | halalo\n",
      "City not found. Skipping...\n",
      "Processing Record 47 of Set 11 | labuan\n",
      "Processing Record 48 of Set 11 | wadena\n",
      "Processing Record 49 of Set 11 | ramnagar\n",
      "Processing Record 50 of Set 11 | tshikapa\n",
      "Processing Record 1 of Set 12 | dungarvan\n",
      "Processing Record 2 of Set 12 | vardo\n",
      "Processing Record 3 of Set 12 | skibbereen\n",
      "Processing Record 4 of Set 12 | half moon bay\n",
      "Processing Record 5 of Set 12 | shitkino\n",
      "Processing Record 6 of Set 12 | aitape\n",
      "Processing Record 7 of Set 12 | tlaxiaco\n",
      "City not found. Skipping...\n",
      "Processing Record 8 of Set 12 | berbera\n",
      "Processing Record 9 of Set 12 | namwala\n",
      "Processing Record 10 of Set 12 | katobu\n",
      "Processing Record 11 of Set 12 | kahului\n",
      "Processing Record 12 of Set 12 | svetlyy\n",
      "Processing Record 13 of Set 12 | teahupoo\n",
      "Processing Record 14 of Set 12 | changji\n",
      "Processing Record 15 of Set 12 | den helder\n",
      "Processing Record 16 of Set 12 | kitimat\n",
      "Processing Record 17 of Set 12 | ust-kuyga\n",
      "Processing Record 18 of Set 12 | puerto madero\n",
      "Processing Record 19 of Set 12 | igrim\n",
      "Processing Record 20 of Set 12 | stepantsevo\n",
      "Processing Record 21 of Set 12 | cockburn town\n"
     ]
    },
    {
     "name": "stdout",
     "output_type": "stream",
     "text": [
      "Processing Record 22 of Set 12 | minab\n",
      "Processing Record 23 of Set 12 | marystown\n",
      "Processing Record 24 of Set 12 | corinto\n",
      "Processing Record 25 of Set 12 | cheremshan\n",
      "Processing Record 26 of Set 12 | san rafael\n",
      "Processing Record 27 of Set 12 | manta\n",
      "Processing Record 28 of Set 12 | nizhniy tsasuchey\n",
      "Processing Record 29 of Set 12 | saint-louis\n",
      "Processing Record 30 of Set 12 | olden\n",
      "Processing Record 31 of Set 12 | dire dawa\n",
      "Processing Record 32 of Set 12 | ulladulla\n",
      "Processing Record 33 of Set 12 | koumac\n",
      "Processing Record 34 of Set 12 | sterling\n",
      "Processing Record 35 of Set 12 | yerbogachen\n",
      "Processing Record 36 of Set 12 | asau\n",
      "Processing Record 37 of Set 12 | kazalinsk\n",
      "City not found. Skipping...\n",
      "Processing Record 38 of Set 12 | kautokeino\n",
      "Processing Record 39 of Set 12 | teguldet\n",
      "Processing Record 40 of Set 12 | lae\n",
      "Processing Record 41 of Set 12 | tarakan\n",
      "Processing Record 42 of Set 12 | mattru\n",
      "-----------------------------\n",
      "Data Retrieval Complete      \n",
      "-----------------------------\n"
     ]
    }
   ],
   "source": [
    "# Loop through all the cities in the list.\n",
    "for i, city in enumerate(cities):\n",
    "\n",
    "    # Group cities in sets of 50 for logging purposes.\n",
    "    if (i % 50 == 0 and i >= 50):\n",
    "        set_count += 1\n",
    "        record_count = 1\n",
    "        time.sleep(60)\n",
    "\n",
    "    # Create endpoint URL with each city.\n",
    "    city_url = url + \"&q=\" + city.replace(\" \",\"+\")\n",
    "\n",
    "    # Log the URL, record, and set numbers and the city.\n",
    "    print(f\"Processing Record {record_count} of Set {set_count} | {city}\")\n",
    "    # Add 1 to the record count.\n",
    "    record_count += 1\n",
    "    \n",
    "    # Run an API request for each of the cities.\n",
    "    try:\n",
    "        # Parse the JSON and retrieve data.\n",
    "        city_weather = requests.get(city_url).json()\n",
    "        # Parse out the needed data.\n",
    "        city_lat = city_weather[\"coord\"][\"lat\"]\n",
    "        city_lng = city_weather[\"coord\"][\"lon\"]\n",
    "        city_max_temp = city_weather[\"main\"][\"temp_max\"]\n",
    "        city_humidity = city_weather[\"main\"][\"humidity\"]\n",
    "        city_clouds = city_weather[\"clouds\"][\"all\"]\n",
    "        city_wind = city_weather[\"wind\"][\"speed\"]\n",
    "        city_country = city_weather[\"sys\"][\"country\"]\n",
    "        # Convert the date to ISO standard.\n",
    "        city_date = datetime.utcfromtimestamp(city_weather[\"dt\"]).strftime('%Y-%m-%d %H:%M:%S')\n",
    "        # Append the city information into city_data list.\n",
    "        city_data.append({\"City\": city.title(),\n",
    "                          \"Lat\": city_lat,\n",
    "                          \"Lng\": city_lng,\n",
    "                          \"Max Temp\": city_max_temp,\n",
    "                          \"Humidity\": city_humidity,\n",
    "                          \"Cloudiness\": city_clouds,\n",
    "                          \"Wind Speed\": city_wind,\n",
    "                          \"Country\": city_country,\n",
    "                          \"Date\": city_date})\n",
    "\n",
    "# If an error is experienced, skip the city.\n",
    "    except:\n",
    "        print(\"City not found. Skipping...\")\n",
    "        pass\n",
    "\n",
    "# Indicate that Data Loading is complete.\n",
    "print(\"-----------------------------\")\n",
    "print(\"Data Retrieval Complete      \")\n",
    "print(\"-----------------------------\")"
   ]
  },
  {
   "cell_type": "code",
   "execution_count": 8,
   "id": "84c4b7b7",
   "metadata": {},
   "outputs": [
    {
     "data": {
      "text/html": [
       "<div>\n",
       "<style scoped>\n",
       "    .dataframe tbody tr th:only-of-type {\n",
       "        vertical-align: middle;\n",
       "    }\n",
       "\n",
       "    .dataframe tbody tr th {\n",
       "        vertical-align: top;\n",
       "    }\n",
       "\n",
       "    .dataframe thead th {\n",
       "        text-align: right;\n",
       "    }\n",
       "</style>\n",
       "<table border=\"1\" class=\"dataframe\">\n",
       "  <thead>\n",
       "    <tr style=\"text-align: right;\">\n",
       "      <th></th>\n",
       "      <th>City</th>\n",
       "      <th>Lat</th>\n",
       "      <th>Lng</th>\n",
       "      <th>Max Temp</th>\n",
       "      <th>Humidity</th>\n",
       "      <th>Cloudiness</th>\n",
       "      <th>Wind Speed</th>\n",
       "      <th>Country</th>\n",
       "      <th>Date</th>\n",
       "    </tr>\n",
       "  </thead>\n",
       "  <tbody>\n",
       "    <tr>\n",
       "      <th>0</th>\n",
       "      <td>Longhua</td>\n",
       "      <td>23.6137</td>\n",
       "      <td>114.1919</td>\n",
       "      <td>67.08</td>\n",
       "      <td>65</td>\n",
       "      <td>16</td>\n",
       "      <td>3.65</td>\n",
       "      <td>CN</td>\n",
       "      <td>2021-11-18 01:01:32</td>\n",
       "    </tr>\n",
       "    <tr>\n",
       "      <th>1</th>\n",
       "      <td>Jamestown</td>\n",
       "      <td>42.0970</td>\n",
       "      <td>-79.2353</td>\n",
       "      <td>62.02</td>\n",
       "      <td>69</td>\n",
       "      <td>1</td>\n",
       "      <td>8.99</td>\n",
       "      <td>US</td>\n",
       "      <td>2021-11-18 01:01:31</td>\n",
       "    </tr>\n",
       "    <tr>\n",
       "      <th>2</th>\n",
       "      <td>Port Blair</td>\n",
       "      <td>11.6667</td>\n",
       "      <td>92.7500</td>\n",
       "      <td>78.84</td>\n",
       "      <td>89</td>\n",
       "      <td>40</td>\n",
       "      <td>3.44</td>\n",
       "      <td>IN</td>\n",
       "      <td>2021-11-18 01:01:33</td>\n",
       "    </tr>\n",
       "    <tr>\n",
       "      <th>3</th>\n",
       "      <td>Kijang</td>\n",
       "      <td>35.2442</td>\n",
       "      <td>129.2139</td>\n",
       "      <td>56.14</td>\n",
       "      <td>33</td>\n",
       "      <td>0</td>\n",
       "      <td>1.97</td>\n",
       "      <td>KR</td>\n",
       "      <td>2021-11-18 01:01:33</td>\n",
       "    </tr>\n",
       "    <tr>\n",
       "      <th>4</th>\n",
       "      <td>Upernavik</td>\n",
       "      <td>72.7868</td>\n",
       "      <td>-56.1549</td>\n",
       "      <td>1.15</td>\n",
       "      <td>75</td>\n",
       "      <td>98</td>\n",
       "      <td>4.16</td>\n",
       "      <td>GL</td>\n",
       "      <td>2021-11-18 01:01:33</td>\n",
       "    </tr>\n",
       "    <tr>\n",
       "      <th>5</th>\n",
       "      <td>Puerto Ayora</td>\n",
       "      <td>-0.7393</td>\n",
       "      <td>-90.3518</td>\n",
       "      <td>68.36</td>\n",
       "      <td>82</td>\n",
       "      <td>55</td>\n",
       "      <td>7.47</td>\n",
       "      <td>EC</td>\n",
       "      <td>2021-11-18 01:01:34</td>\n",
       "    </tr>\n",
       "    <tr>\n",
       "      <th>6</th>\n",
       "      <td>Provideniya</td>\n",
       "      <td>64.3833</td>\n",
       "      <td>-173.3000</td>\n",
       "      <td>14.11</td>\n",
       "      <td>67</td>\n",
       "      <td>75</td>\n",
       "      <td>17.90</td>\n",
       "      <td>RU</td>\n",
       "      <td>2021-11-18 00:56:38</td>\n",
       "    </tr>\n",
       "    <tr>\n",
       "      <th>7</th>\n",
       "      <td>Butaritari</td>\n",
       "      <td>3.0707</td>\n",
       "      <td>172.7902</td>\n",
       "      <td>82.13</td>\n",
       "      <td>77</td>\n",
       "      <td>98</td>\n",
       "      <td>12.15</td>\n",
       "      <td>KI</td>\n",
       "      <td>2021-11-18 00:51:50</td>\n",
       "    </tr>\n",
       "    <tr>\n",
       "      <th>8</th>\n",
       "      <td>Tura</td>\n",
       "      <td>25.5198</td>\n",
       "      <td>90.2201</td>\n",
       "      <td>61.11</td>\n",
       "      <td>80</td>\n",
       "      <td>52</td>\n",
       "      <td>3.27</td>\n",
       "      <td>IN</td>\n",
       "      <td>2021-11-18 00:57:54</td>\n",
       "    </tr>\n",
       "    <tr>\n",
       "      <th>9</th>\n",
       "      <td>Shache</td>\n",
       "      <td>38.4167</td>\n",
       "      <td>77.2406</td>\n",
       "      <td>35.62</td>\n",
       "      <td>35</td>\n",
       "      <td>4</td>\n",
       "      <td>6.44</td>\n",
       "      <td>CN</td>\n",
       "      <td>2021-11-18 01:01:34</td>\n",
       "    </tr>\n",
       "  </tbody>\n",
       "</table>\n",
       "</div>"
      ],
      "text/plain": [
       "           City      Lat       Lng  Max Temp  Humidity  Cloudiness  \\\n",
       "0       Longhua  23.6137  114.1919     67.08        65          16   \n",
       "1     Jamestown  42.0970  -79.2353     62.02        69           1   \n",
       "2    Port Blair  11.6667   92.7500     78.84        89          40   \n",
       "3        Kijang  35.2442  129.2139     56.14        33           0   \n",
       "4     Upernavik  72.7868  -56.1549      1.15        75          98   \n",
       "5  Puerto Ayora  -0.7393  -90.3518     68.36        82          55   \n",
       "6   Provideniya  64.3833 -173.3000     14.11        67          75   \n",
       "7    Butaritari   3.0707  172.7902     82.13        77          98   \n",
       "8          Tura  25.5198   90.2201     61.11        80          52   \n",
       "9        Shache  38.4167   77.2406     35.62        35           4   \n",
       "\n",
       "   Wind Speed Country                 Date  \n",
       "0        3.65      CN  2021-11-18 01:01:32  \n",
       "1        8.99      US  2021-11-18 01:01:31  \n",
       "2        3.44      IN  2021-11-18 01:01:33  \n",
       "3        1.97      KR  2021-11-18 01:01:33  \n",
       "4        4.16      GL  2021-11-18 01:01:33  \n",
       "5        7.47      EC  2021-11-18 01:01:34  \n",
       "6       17.90      RU  2021-11-18 00:56:38  \n",
       "7       12.15      KI  2021-11-18 00:51:50  \n",
       "8        3.27      IN  2021-11-18 00:57:54  \n",
       "9        6.44      CN  2021-11-18 01:01:34  "
      ]
     },
     "execution_count": 8,
     "metadata": {},
     "output_type": "execute_result"
    }
   ],
   "source": [
    "#convert the array of dictionaries to a pandas df\n",
    "city_data_df = pd.DataFrame(city_data)\n",
    "city_data_df.head(10)"
   ]
  },
  {
   "cell_type": "code",
   "execution_count": 9,
   "id": "8990e069",
   "metadata": {},
   "outputs": [
    {
     "data": {
      "text/html": [
       "<div>\n",
       "<style scoped>\n",
       "    .dataframe tbody tr th:only-of-type {\n",
       "        vertical-align: middle;\n",
       "    }\n",
       "\n",
       "    .dataframe tbody tr th {\n",
       "        vertical-align: top;\n",
       "    }\n",
       "\n",
       "    .dataframe thead th {\n",
       "        text-align: right;\n",
       "    }\n",
       "</style>\n",
       "<table border=\"1\" class=\"dataframe\">\n",
       "  <thead>\n",
       "    <tr style=\"text-align: right;\">\n",
       "      <th></th>\n",
       "      <th>City</th>\n",
       "      <th>Country</th>\n",
       "      <th>Date</th>\n",
       "      <th>Lat</th>\n",
       "      <th>Lng</th>\n",
       "      <th>Max Temp</th>\n",
       "      <th>Humidity</th>\n",
       "      <th>Cloudiness</th>\n",
       "      <th>Wind Speed</th>\n",
       "    </tr>\n",
       "  </thead>\n",
       "  <tbody>\n",
       "    <tr>\n",
       "      <th>0</th>\n",
       "      <td>Longhua</td>\n",
       "      <td>CN</td>\n",
       "      <td>2021-11-18 01:01:32</td>\n",
       "      <td>23.6137</td>\n",
       "      <td>114.1919</td>\n",
       "      <td>67.08</td>\n",
       "      <td>65</td>\n",
       "      <td>16</td>\n",
       "      <td>3.65</td>\n",
       "    </tr>\n",
       "    <tr>\n",
       "      <th>1</th>\n",
       "      <td>Jamestown</td>\n",
       "      <td>US</td>\n",
       "      <td>2021-11-18 01:01:31</td>\n",
       "      <td>42.0970</td>\n",
       "      <td>-79.2353</td>\n",
       "      <td>62.02</td>\n",
       "      <td>69</td>\n",
       "      <td>1</td>\n",
       "      <td>8.99</td>\n",
       "    </tr>\n",
       "    <tr>\n",
       "      <th>2</th>\n",
       "      <td>Port Blair</td>\n",
       "      <td>IN</td>\n",
       "      <td>2021-11-18 01:01:33</td>\n",
       "      <td>11.6667</td>\n",
       "      <td>92.7500</td>\n",
       "      <td>78.84</td>\n",
       "      <td>89</td>\n",
       "      <td>40</td>\n",
       "      <td>3.44</td>\n",
       "    </tr>\n",
       "    <tr>\n",
       "      <th>3</th>\n",
       "      <td>Kijang</td>\n",
       "      <td>KR</td>\n",
       "      <td>2021-11-18 01:01:33</td>\n",
       "      <td>35.2442</td>\n",
       "      <td>129.2139</td>\n",
       "      <td>56.14</td>\n",
       "      <td>33</td>\n",
       "      <td>0</td>\n",
       "      <td>1.97</td>\n",
       "    </tr>\n",
       "    <tr>\n",
       "      <th>4</th>\n",
       "      <td>Upernavik</td>\n",
       "      <td>GL</td>\n",
       "      <td>2021-11-18 01:01:33</td>\n",
       "      <td>72.7868</td>\n",
       "      <td>-56.1549</td>\n",
       "      <td>1.15</td>\n",
       "      <td>75</td>\n",
       "      <td>98</td>\n",
       "      <td>4.16</td>\n",
       "    </tr>\n",
       "    <tr>\n",
       "      <th>...</th>\n",
       "      <td>...</td>\n",
       "      <td>...</td>\n",
       "      <td>...</td>\n",
       "      <td>...</td>\n",
       "      <td>...</td>\n",
       "      <td>...</td>\n",
       "      <td>...</td>\n",
       "      <td>...</td>\n",
       "      <td>...</td>\n",
       "    </tr>\n",
       "    <tr>\n",
       "      <th>548</th>\n",
       "      <td>Kautokeino</td>\n",
       "      <td>NO</td>\n",
       "      <td>2021-11-18 01:14:32</td>\n",
       "      <td>69.0125</td>\n",
       "      <td>23.0412</td>\n",
       "      <td>32.94</td>\n",
       "      <td>98</td>\n",
       "      <td>100</td>\n",
       "      <td>7.45</td>\n",
       "    </tr>\n",
       "    <tr>\n",
       "      <th>549</th>\n",
       "      <td>Teguldet</td>\n",
       "      <td>RU</td>\n",
       "      <td>2021-11-18 01:14:32</td>\n",
       "      <td>57.3064</td>\n",
       "      <td>88.1667</td>\n",
       "      <td>12.07</td>\n",
       "      <td>94</td>\n",
       "      <td>100</td>\n",
       "      <td>4.70</td>\n",
       "    </tr>\n",
       "    <tr>\n",
       "      <th>550</th>\n",
       "      <td>Lae</td>\n",
       "      <td>PG</td>\n",
       "      <td>2021-11-18 01:14:32</td>\n",
       "      <td>-6.7221</td>\n",
       "      <td>146.9847</td>\n",
       "      <td>87.35</td>\n",
       "      <td>61</td>\n",
       "      <td>32</td>\n",
       "      <td>6.60</td>\n",
       "    </tr>\n",
       "    <tr>\n",
       "      <th>551</th>\n",
       "      <td>Tarakan</td>\n",
       "      <td>ID</td>\n",
       "      <td>2021-11-18 01:09:53</td>\n",
       "      <td>3.3000</td>\n",
       "      <td>117.6333</td>\n",
       "      <td>80.10</td>\n",
       "      <td>83</td>\n",
       "      <td>20</td>\n",
       "      <td>4.61</td>\n",
       "    </tr>\n",
       "    <tr>\n",
       "      <th>552</th>\n",
       "      <td>Mattru</td>\n",
       "      <td>SL</td>\n",
       "      <td>2021-11-18 01:14:33</td>\n",
       "      <td>7.6244</td>\n",
       "      <td>-11.8332</td>\n",
       "      <td>75.38</td>\n",
       "      <td>93</td>\n",
       "      <td>95</td>\n",
       "      <td>2.35</td>\n",
       "    </tr>\n",
       "  </tbody>\n",
       "</table>\n",
       "<p>553 rows × 9 columns</p>\n",
       "</div>"
      ],
      "text/plain": [
       "           City Country                 Date      Lat       Lng  Max Temp  \\\n",
       "0       Longhua      CN  2021-11-18 01:01:32  23.6137  114.1919     67.08   \n",
       "1     Jamestown      US  2021-11-18 01:01:31  42.0970  -79.2353     62.02   \n",
       "2    Port Blair      IN  2021-11-18 01:01:33  11.6667   92.7500     78.84   \n",
       "3        Kijang      KR  2021-11-18 01:01:33  35.2442  129.2139     56.14   \n",
       "4     Upernavik      GL  2021-11-18 01:01:33  72.7868  -56.1549      1.15   \n",
       "..          ...     ...                  ...      ...       ...       ...   \n",
       "548  Kautokeino      NO  2021-11-18 01:14:32  69.0125   23.0412     32.94   \n",
       "549    Teguldet      RU  2021-11-18 01:14:32  57.3064   88.1667     12.07   \n",
       "550         Lae      PG  2021-11-18 01:14:32  -6.7221  146.9847     87.35   \n",
       "551     Tarakan      ID  2021-11-18 01:09:53   3.3000  117.6333     80.10   \n",
       "552      Mattru      SL  2021-11-18 01:14:33   7.6244  -11.8332     75.38   \n",
       "\n",
       "     Humidity  Cloudiness  Wind Speed  \n",
       "0          65          16        3.65  \n",
       "1          69           1        8.99  \n",
       "2          89          40        3.44  \n",
       "3          33           0        1.97  \n",
       "4          75          98        4.16  \n",
       "..        ...         ...         ...  \n",
       "548        98         100        7.45  \n",
       "549        94         100        4.70  \n",
       "550        61          32        6.60  \n",
       "551        83          20        4.61  \n",
       "552        93          95        2.35  \n",
       "\n",
       "[553 rows x 9 columns]"
      ]
     },
     "execution_count": 9,
     "metadata": {},
     "output_type": "execute_result"
    }
   ],
   "source": [
    "#reorder the columns\n",
    "new_column_order = [\"City\", \"Country\", \"Date\", \"Lat\", \"Lng\", \"Max Temp\", \"Humidity\", \"Cloudiness\", \"Wind Speed\"]\n",
    "\n",
    "correct_city_data = city_data_df[new_column_order]\n",
    "\n",
    "correct_city_data"
   ]
  },
  {
   "cell_type": "code",
   "execution_count": 10,
   "id": "76269985",
   "metadata": {},
   "outputs": [],
   "source": [
    "#create the output file (CSV)\n",
    "output_data_file = \"weather_data/cities.csv\"\n",
    "\n",
    "#export the city_data into a csv\n",
    "correct_city_data.to_csv(output_data_file, index_label=\"City_ID\")"
   ]
  },
  {
   "cell_type": "code",
   "execution_count": 11,
   "id": "f88826ce",
   "metadata": {},
   "outputs": [],
   "source": [
    "# Extract relevant fields from the DataFrame for plotting.\n",
    "lats = correct_city_data[\"Lat\"]\n",
    "max_temps = correct_city_data[\"Max Temp\"]\n",
    "humidity = correct_city_data[\"Humidity\"]\n",
    "cloudiness = correct_city_data[\"Cloudiness\"]\n",
    "wind_speed = correct_city_data[\"Wind Speed\"]"
   ]
  },
  {
   "cell_type": "code",
   "execution_count": 12,
   "id": "7b9738ab",
   "metadata": {},
   "outputs": [
    {
     "data": {
      "image/png": "[encoded data removed]",
      "text/plain": [
       "<Figure size 432x288 with 1 Axes>"
      ]
     },
     "metadata": {
      "needs_background": "light"
     },
     "output_type": "display_data"
    }
   ],
   "source": [
    "# Import time module\n",
    "import time\n",
    "\n",
    "# Build the scatter plot for latitude vs. max temperature.\n",
    "plt.scatter(lats,\n",
    "            max_temps,\n",
    "            edgecolor=\"black\", linewidths=1, marker=\"o\",\n",
    "            alpha=0.8, label=\"Cities\")\n",
    "\n",
    "# Incorporate the other graph properties.\n",
    "plt.title(f\"City Latitude vs. Max Temperature \"+ time.strftime(\"%x\"))\n",
    "plt.ylabel(\"Max Temperature (F)\")\n",
    "plt.xlabel(\"Latitude\")\n",
    "plt.grid(True)\n",
    "\n",
    "# Save the figure.\n",
    "plt.savefig(\"weather_data/Fig1.png\")\n",
    "\n",
    "# Show plot.\n",
    "plt.show()"
   ]
  },
  {
   "cell_type": "code",
   "execution_count": 13,
   "id": "64307622",
   "metadata": {},
   "outputs": [
    {
     "data": {
      "image/png": "[encoded data removed]",
      "text/plain": [
       "<Figure size 432x288 with 1 Axes>"
      ]
     },
     "metadata": {
      "needs_background": "light"
     },
     "output_type": "display_data"
    }
   ],
   "source": [
    "# Build the scatter plots for latitude vs. humidity.\n",
    "plt.scatter(lats,\n",
    "            humidity,\n",
    "            edgecolor=\"black\", linewidths=1, marker=\"o\",\n",
    "            alpha=0.8, label=\"Cities\")\n",
    "\n",
    "# Incorporate the other graph properties.\n",
    "plt.title(f\"City Latitude vs. Humidity \"+ time.strftime(\"%x\"))\n",
    "plt.ylabel(\"Humidity (%)\")\n",
    "plt.xlabel(\"Latitude\")\n",
    "plt.grid(True)\n",
    "# Save the figure.\n",
    "plt.savefig(\"weather_data/Fig2.png\")\n",
    "# Show plot.\n",
    "plt.show()"
   ]
  },
  {
   "cell_type": "code",
   "execution_count": 14,
   "id": "3d1ca9b9",
   "metadata": {},
   "outputs": [
    {
     "data": {
      "image/png": "[encoded data removed]",
      "text/plain": [
       "<Figure size 432x288 with 1 Axes>"
      ]
     },
     "metadata": {
      "needs_background": "light"
     },
     "output_type": "display_data"
    }
   ],
   "source": [
    "# Build the scatter plots for latitude vs. cloudiness.\n",
    "plt.scatter(lats,\n",
    "            cloudiness,\n",
    "            edgecolor=\"black\", linewidths=1, marker=\"o\",\n",
    "            alpha=0.8, label=\"Cities\")\n",
    "\n",
    "# Incorporate the other graph properties.\n",
    "plt.title(f\"City Latitude vs. Cloudiness (%) \"+ time.strftime(\"%x\"))\n",
    "plt.ylabel(\"Cloudiness (%)\")\n",
    "plt.xlabel(\"Latitude\")\n",
    "plt.grid(True)\n",
    "# Save the figure.\n",
    "plt.savefig(\"weather_data/Fig3.png\")\n",
    "# Show plot.\n",
    "plt.show()"
   ]
  },
  {
   "cell_type": "code",
   "execution_count": 15,
   "id": "8e8f936d",
   "metadata": {},
   "outputs": [
    {
     "data": {
      "image/png": "[encoded data removed]",
      "text/plain": [
       "<Figure size 432x288 with 1 Axes>"
      ]
     },
     "metadata": {
      "needs_background": "light"
     },
     "output_type": "display_data"
    }
   ],
   "source": [
    "# Build the scatter plots for latitude vs. wind speed.\n",
    "plt.scatter(lats,\n",
    "            wind_speed,\n",
    "            edgecolor=\"black\", linewidths=1, marker=\"o\",\n",
    "            alpha=0.8, label=\"Cities\")\n",
    "\n",
    "# Incorporate the other graph properties.\n",
    "plt.title(f\"City Latitude vs. Wind Speed \"+ time.strftime(\"%x\"))\n",
    "plt.ylabel(\"Wind Speed (mph)\")\n",
    "plt.xlabel(\"Latitude\")\n",
    "plt.grid(True)\n",
    "# Save the figure.\n",
    "plt.savefig(\"weather_data/Fig4.png\")\n",
    "# Show plot.\n",
    "plt.show()"
   ]
  },
  {
   "cell_type": "code",
   "execution_count": null,
   "id": "409c338b",
   "metadata": {},
   "outputs": [],
   "source": []
  },
  {
   "cell_type": "markdown",
   "id": "acdaaa3c",
   "metadata": {},
   "source": [
    "## "
   ]
  },
  {
   "cell_type": "markdown",
   "id": "31785f40",
   "metadata": {},
   "source": [
    "## "
   ]
  },
  {
   "cell_type": "markdown",
   "id": "05cda251",
   "metadata": {},
   "source": [
    "## "
   ]
  },
  {
   "cell_type": "markdown",
   "id": "2e13f8fa",
   "metadata": {},
   "source": [
    "## "
   ]
  },
  {
   "cell_type": "markdown",
   "id": "3eb3d91e",
   "metadata": {},
   "source": [
    "## "
   ]
  },
  {
   "cell_type": "markdown",
   "id": "85c883fd",
   "metadata": {},
   "source": [
    "## "
   ]
  },
  {
   "cell_type": "markdown",
   "id": "a2af7265",
   "metadata": {},
   "source": [
    "## "
   ]
  },
  {
   "cell_type": "markdown",
   "id": "43235b7a",
   "metadata": {},
   "source": [
    "## "
   ]
  },
  {
   "cell_type": "markdown",
   "id": "b0dd67b4",
   "metadata": {},
   "source": [
    "## "
   ]
  },
  {
   "cell_type": "markdown",
   "id": "048c3749",
   "metadata": {},
   "source": [
    "## "
   ]
  },
  {
   "cell_type": "markdown",
   "id": "1d413517",
   "metadata": {},
   "source": [
    "## "
   ]
  },
  {
   "cell_type": "markdown",
   "id": "2df7e07c",
   "metadata": {},
   "source": [
    "## "
   ]
  },
  {
   "cell_type": "markdown",
   "id": "e3610659",
   "metadata": {},
   "source": [
    "## "
   ]
  },
  {
   "cell_type": "markdown",
   "id": "0b1e0f63",
   "metadata": {},
   "source": [
    "## "
   ]
  },
  {
   "cell_type": "markdown",
   "id": "e13e1bfa",
   "metadata": {},
   "source": [
    "## "
   ]
  },
  {
   "cell_type": "markdown",
   "id": "6e33a760",
   "metadata": {},
   "source": [
    "## "
   ]
  },
  {
   "cell_type": "markdown",
   "id": "682f4b9d",
   "metadata": {},
   "source": [
    "## "
   ]
  },
  {
   "cell_type": "markdown",
   "id": "be738416",
   "metadata": {},
   "source": [
    "## "
   ]
  },
  {
   "cell_type": "markdown",
   "id": "5d5eadad",
   "metadata": {},
   "source": [
    "## "
   ]
  },
  {
   "cell_type": "markdown",
   "id": "6b27f080",
   "metadata": {},
   "source": [
    "## "
   ]
  },
  {
   "cell_type": "markdown",
   "id": "01ab80ef",
   "metadata": {},
   "source": [
    "## "
   ]
  },
  {
   "cell_type": "markdown",
   "id": "590a4ac6",
   "metadata": {},
   "source": [
    "## "
   ]
  },
  {
   "cell_type": "markdown",
   "id": "495fa6fa",
   "metadata": {},
   "source": [
    "## "
   ]
  },
  {
   "cell_type": "markdown",
   "id": "9bba2783",
   "metadata": {},
   "source": [
    "## "
   ]
  },
  {
   "cell_type": "markdown",
   "id": "70e85e32",
   "metadata": {},
   "source": [
    "## "
   ]
  },
  {
   "cell_type": "markdown",
   "id": "9f6d5e08",
   "metadata": {},
   "source": [
    "## "
   ]
  },
  {
   "cell_type": "markdown",
   "id": "d42dca25",
   "metadata": {},
   "source": [
    "## "
   ]
  },
  {
   "cell_type": "markdown",
   "id": "e12eccfc",
   "metadata": {},
   "source": [
    "## "
   ]
  },
  {
   "cell_type": "markdown",
   "id": "3370fcd0",
   "metadata": {},
   "source": [
    "## "
   ]
  },
  {
   "cell_type": "markdown",
   "id": "e8987d8e",
   "metadata": {},
   "source": [
    "## "
   ]
  },
  {
   "cell_type": "markdown",
   "id": "0d372111",
   "metadata": {},
   "source": [
    "## "
   ]
  },
  {
   "cell_type": "markdown",
   "id": "0fa09238",
   "metadata": {},
   "source": [
    "## "
   ]
  },
  {
   "cell_type": "markdown",
   "id": "6c8afe4b",
   "metadata": {},
   "source": [
    "## "
   ]
  },
  {
   "cell_type": "markdown",
   "id": "06164213",
   "metadata": {},
   "source": [
    "## "
   ]
  },
  {
   "cell_type": "markdown",
   "id": "06e8c8c0",
   "metadata": {},
   "source": [
    "## "
   ]
  },
  {
   "cell_type": "markdown",
   "id": "09a3f353",
   "metadata": {},
   "source": [
    "## "
   ]
  },
  {
   "cell_type": "markdown",
   "id": "1de08870",
   "metadata": {},
   "source": [
    "## "
   ]
  },
  {
   "cell_type": "markdown",
   "id": "2a349406",
   "metadata": {},
   "source": [
    "## "
   ]
  },
  {
   "cell_type": "markdown",
   "id": "a114fbe7",
   "metadata": {},
   "source": [
    "## "
   ]
  },
  {
   "cell_type": "markdown",
   "id": "813dbc74",
   "metadata": {},
   "source": [
    "## "
   ]
  },
  {
   "cell_type": "markdown",
   "id": "b7618011",
   "metadata": {},
   "source": [
    "## "
   ]
  },
  {
   "cell_type": "markdown",
   "id": "f77f1155",
   "metadata": {},
   "source": [
    "## "
   ]
  },
  {
   "cell_type": "markdown",
   "id": "a564e309",
   "metadata": {},
   "source": [
    "## "
   ]
  },
  {
   "cell_type": "markdown",
   "id": "790d238b",
   "metadata": {},
   "source": [
    "## "
   ]
  },
  {
   "cell_type": "markdown",
   "id": "4fce4a26",
   "metadata": {},
   "source": [
    "## "
   ]
  },
  {
   "cell_type": "markdown",
   "id": "571b226b",
   "metadata": {},
   "source": [
    "## "
   ]
  },
  {
   "cell_type": "markdown",
   "id": "b572a376",
   "metadata": {},
   "source": [
    "## "
   ]
  },
  {
   "cell_type": "markdown",
   "id": "f4cb64a8",
   "metadata": {},
   "source": [
    "## "
   ]
  },
  {
   "cell_type": "markdown",
   "id": "d636b05c",
   "metadata": {},
   "source": [
    "## "
   ]
  },
  {
   "cell_type": "markdown",
   "id": "225a1dba",
   "metadata": {},
   "source": [
    "## "
   ]
  },
  {
   "cell_type": "markdown",
   "id": "61455d2d",
   "metadata": {},
   "source": [
    "## "
   ]
  },
  {
   "cell_type": "markdown",
   "id": "00ce102a",
   "metadata": {},
   "source": [
    "## "
   ]
  },
  {
   "cell_type": "markdown",
   "id": "ebd55201",
   "metadata": {},
   "source": [
    "## "
   ]
  },
  {
   "cell_type": "markdown",
   "id": "d4678e37",
   "metadata": {},
   "source": [
    "## "
   ]
  },
  {
   "cell_type": "markdown",
   "id": "49d9c2c6",
   "metadata": {},
   "source": [
    "## "
   ]
  },
  {
   "cell_type": "markdown",
   "id": "3f1bce4d",
   "metadata": {},
   "source": [
    "## "
   ]
  },
  {
   "cell_type": "markdown",
   "id": "0cc6e9bc",
   "metadata": {},
   "source": [
    "## "
   ]
  },
  {
   "cell_type": "markdown",
   "id": "4bce7fd7",
   "metadata": {},
   "source": [
    "## "
   ]
  },
  {
   "cell_type": "markdown",
   "id": "d2d3fd3c",
   "metadata": {},
   "source": [
    "## "
   ]
  },
  {
   "cell_type": "markdown",
   "id": "c28928c3",
   "metadata": {},
   "source": [
    "## "
   ]
  }
 ],
 "metadata": {
  "kernelspec": {
   "display_name": "PythonData",
   "language": "python",
   "name": "pythondata"
  },
  "language_info": {
   "codemirror_mode": {
    "name": "ipython",
    "version": 3
   },
   "file_extension": ".py",
   "mimetype": "text/x-python",
   "name": "python",
   "nbconvert_exporter": "python",
   "pygments_lexer": "ipython3",
   "version": "3.7.10"
  }
 },
 "nbformat": 4,
 "nbformat_minor": 5
}
